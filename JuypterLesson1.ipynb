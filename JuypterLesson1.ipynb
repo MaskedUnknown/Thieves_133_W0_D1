{
 "cells": [
  {
   "cell_type": "code",
   "execution_count": 35,
   "id": "f28746b2",
   "metadata": {
    "scrolled": true
   },
   "outputs": [],
   "source": [
    "x = 5"
   ]
  },
  {
   "cell_type": "code",
   "execution_count": 36,
   "id": "6cce8b6e",
   "metadata": {},
   "outputs": [],
   "source": [
    "while x == 5: x += 1"
   ]
  },
  {
   "cell_type": "code",
   "execution_count": 37,
   "id": "ecc1efbe",
   "metadata": {},
   "outputs": [
    {
     "name": "stdout",
     "output_type": "stream",
     "text": [
      " The answer is:  6  Works abit like LUA, just abit; This lesson file is part of update v0.01 of T133W0D1. \n"
     ]
    }
   ],
   "source": [
    "print(\" The answer is: \", x, \" Works abit like LUA, just abit; This lesson file is part of update v0.01 of T133W0D1. \")"
   ]
  },
  {
   "cell_type": "code",
   "execution_count": null,
   "id": "f6b5a303",
   "metadata": {},
   "outputs": [],
   "source": []
  },
  {
   "cell_type": "code",
   "execution_count": null,
   "id": "91765b17",
   "metadata": {},
   "outputs": [],
   "source": []
  }
 ],
 "metadata": {
  "kernelspec": {
   "display_name": "Python 3 (ipykernel)",
   "language": "python",
   "name": "python3"
  },
  "language_info": {
   "codemirror_mode": {
    "name": "ipython",
    "version": 3
   },
   "file_extension": ".py",
   "mimetype": "text/x-python",
   "name": "python",
   "nbconvert_exporter": "python",
   "pygments_lexer": "ipython3",
   "version": "3.11.4"
  }
 },
 "nbformat": 4,
 "nbformat_minor": 5
}
